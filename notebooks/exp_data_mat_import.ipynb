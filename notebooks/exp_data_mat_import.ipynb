{
 "cells": [
  {
   "cell_type": "code",
   "execution_count": 59,
   "id": "9985d88e",
   "metadata": {},
   "outputs": [],
   "source": [
    "import h5py\n",
    "from pathlib import Path\n",
    "import numpy as np"
   ]
  },
  {
   "cell_type": "code",
   "execution_count": 60,
   "id": "523e6c4f",
   "metadata": {},
   "outputs": [],
   "source": [
    "# cin workstation\n",
    "datapath = r\"\\\\172.25.250.112\\burgalossi\\lab share\\Data\\Florian\\ADN\\ADNFH3\\analysis\\Data6\\ramp\\Data6_ramp.mat\"\n",
    "# turns out, only the exported files directly from smrx are in hd5f format, the spikesorted ones not. So H5py can't import the file"
   ]
  },
  {
   "cell_type": "code",
   "execution_count": 61,
   "id": "72af2c03",
   "metadata": {},
   "outputs": [],
   "source": [
    "f = h5py.File(datapath, 'r')"
   ]
  },
  {
   "cell_type": "code",
   "execution_count": 62,
   "id": "582a6215",
   "metadata": {},
   "outputs": [
    {
     "name": "stdout",
     "output_type": "stream",
     "text": [
      "['Ch1', 'Ch2', 'Ch3', 'Ch31', 'Ch32', 'Ch4', 'Ch5', 'Ch6', 'file']\n"
     ]
    }
   ],
   "source": [
    "print(list(f.keys()))\n",
    "file = f['file']\n",
    "start = file['start']\n",
    "name = file['name']"
   ]
  },
  {
   "cell_type": "code",
   "execution_count": 63,
   "id": "554a0f59",
   "metadata": {},
   "outputs": [
    {
     "data": {
      "text/plain": [
       "'Data6_ramp.smrx'"
      ]
     },
     "execution_count": 63,
     "metadata": {},
     "output_type": "execute_result"
    }
   ],
   "source": [
    "''.join(name[:].astype('uint32').view('U1').flatten())"
   ]
  },
  {
   "cell_type": "code",
   "execution_count": 64,
   "id": "e67d21f7",
   "metadata": {},
   "outputs": [],
   "source": [
    "ch1 = f['Ch1']"
   ]
  },
  {
   "cell_type": "code",
   "execution_count": 65,
   "id": "f3af1f01",
   "metadata": {},
   "outputs": [
    {
     "data": {
      "text/plain": [
       "<KeysViewHDF5 ['comment', 'interval', 'length', 'offset', 'scale', 'start', 'times', 'title', 'units', 'values']>"
      ]
     },
     "execution_count": 65,
     "metadata": {},
     "output_type": "execute_result"
    }
   ],
   "source": [
    "ch1.keys()"
   ]
  },
  {
   "cell_type": "code",
   "execution_count": 66,
   "id": "f32cc7d1",
   "metadata": {},
   "outputs": [],
   "source": [
    "interval = ch1['interval']\n",
    "title = ch1['title']\n",
    "ti = title[:]\n",
    "it = ti.astype('uint32').view('U1')\n",
    "final = ''.join(it.flatten())"
   ]
  },
  {
   "cell_type": "code",
   "execution_count": 74,
   "id": "26b0c73b",
   "metadata": {},
   "outputs": [
    {
     "name": "stdout",
     "output_type": "stream",
     "text": [
      "<HDF5 dataset \"codes\": shape (4, 30), type \"|u1\">\n",
      "<HDF5 dataset \"comment\": shape (10, 1), type \"<u2\">\n",
      "<HDF5 dataset \"length\": shape (1, 1), type \"<f8\">\n",
      "<HDF5 dataset \"resolution\": shape (1, 1), type \"<f8\">\n",
      "<HDF5 dataset \"times\": shape (1, 30), type \"<f8\">\n",
      "<HDF5 dataset \"title\": shape (8, 1), type \"<u2\">\n"
     ]
    }
   ],
   "source": [
    "for i in f['Ch31']:\n",
    "    print(f['Ch31'][i])"
   ]
  },
  {
   "cell_type": "code",
   "execution_count": 77,
   "id": "f35e0228",
   "metadata": {},
   "outputs": [
    {
     "name": "stdout",
     "output_type": "stream",
     "text": [
      "[[ 67 121  97 116  97 116  97  97  97  97 116 116  97 116  97  97  97  97\n",
      "  116 116 116  97 116 116  97  97  97  97 116  65]\n",
      " [  0   0   0   0   0   0   0   0   0   0   0   0   0   0   0   0   0   0\n",
      "    0   0   0   0   0   0   0   0   0   0   0   0]\n",
      " [  0   0   0   0   0   0   0   0   0   0   0   0   0   0   0   0   0   0\n",
      "    0   0   0   0   0   0   0   0   0   0   0   0]\n",
      " [  0   0   0   0   0   0   0   0   0   0   0   0   0   0   0   0   0   0\n",
      "    0   0   0   0   0   0   0   0   0   0   0   0]]\n",
      "[[  4.156266  14.476278  14.47628   29.62025   45.08829   60.28025\n",
      "   75.658298  91.072298 106.32429  121.636258 137.080274 152.332266\n",
      "  167.596298 182.956258 198.256298 213.484266 228.766274 244.060266\n",
      "  259.420278 274.876278 289.996278 305.212266 320.662274 335.80025\n",
      "  351.082258 366.328258 381.814274 397.042298 412.19825  430.77429 ]]\n",
      "Keyboard\n"
     ]
    }
   ],
   "source": [
    "print(f['Ch31']['codes'][:])\n",
    "print(f['Ch31']['times'][:])\n",
    "print(''.join(f['Ch31']['title'][:].astype('uint32').view('U1').flatten()))"
   ]
  },
  {
   "cell_type": "code",
   "execution_count": 73,
   "id": "5efe3151",
   "metadata": {},
   "outputs": [
    {
     "name": "stdout",
     "output_type": "stream",
     "text": [
      "[0 4]\n"
     ]
    }
   ],
   "source": [
    "print(f['Ch32']['codes'][:])"
   ]
  }
 ],
 "metadata": {
  "kernelspec": {
   "display_name": ".venv",
   "language": "python",
   "name": "python3"
  },
  "language_info": {
   "codemirror_mode": {
    "name": "ipython",
    "version": 3
   },
   "file_extension": ".py",
   "mimetype": "text/x-python",
   "name": "python",
   "nbconvert_exporter": "python",
   "pygments_lexer": "ipython3",
   "version": "3.12.6"
  }
 },
 "nbformat": 4,
 "nbformat_minor": 5
}
