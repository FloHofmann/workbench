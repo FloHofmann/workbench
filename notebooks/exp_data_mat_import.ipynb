{
 "cells": [
  {
   "cell_type": "code",
   "execution_count": 1,
   "id": "9985d88e",
   "metadata": {},
   "outputs": [],
   "source": [
    "import h5py\n",
    "from pathlib import Path"
   ]
  },
  {
   "cell_type": "code",
   "execution_count": null,
   "id": "523e6c4f",
   "metadata": {},
   "outputs": [],
   "source": [
    "# cin workstation\n",
    "datapath = r\"\\\\172.25.250.112\\burgalossi\\lab share\\Data\\Florian\\ADN\\ADNFH7\\analysis\\Data5\\Baseline\\Data5.mat\"\n",
    "# turns out, only the exported files directly from smrx are in hd5f format, the spikesorted ones not. So H5py can't import the file"
   ]
  },
  {
   "cell_type": "code",
   "execution_count": 6,
   "id": "72af2c03",
   "metadata": {},
   "outputs": [],
   "source": [
    "f = h5py.File(datapath, 'r')"
   ]
  }
 ],
 "metadata": {
  "kernelspec": {
   "display_name": ".venv",
   "language": "python",
   "name": "python3"
  },
  "language_info": {
   "codemirror_mode": {
    "name": "ipython",
    "version": 3
   },
   "file_extension": ".py",
   "mimetype": "text/x-python",
   "name": "python",
   "nbconvert_exporter": "python",
   "pygments_lexer": "ipython3",
   "version": "3.12.6"
  }
 },
 "nbformat": 4,
 "nbformat_minor": 5
}
