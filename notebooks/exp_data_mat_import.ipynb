{
 "cells": [
  {
   "cell_type": "code",
   "execution_count": 38,
   "id": "9985d88e",
   "metadata": {},
   "outputs": [],
   "source": [
    "import h5py\n",
    "from pathlib import Path\n",
    "import numpy as np"
   ]
  },
  {
   "cell_type": "code",
   "execution_count": 39,
   "id": "523e6c4f",
   "metadata": {},
   "outputs": [],
   "source": [
    "# cin workstation\n",
    "datapath = r\"..\\\\data\\\\Data6.mat\"\n",
    "# turns out, only the exported files directly from smrx are in hd5f format, the spikesorted ones not. So H5py can't import the file"
   ]
  },
  {
   "cell_type": "code",
   "execution_count": 57,
   "id": "72af2c03",
   "metadata": {},
   "outputs": [],
   "source": [
    "f = h5py.File(datapath, 'r')"
   ]
  },
  {
   "cell_type": "code",
   "execution_count": 66,
   "id": "582a6215",
   "metadata": {},
   "outputs": [
    {
     "name": "stdout",
     "output_type": "stream",
     "text": [
      "['Ch1', 'Ch2', 'Ch3', 'Ch31', 'Ch32', 'Ch4', 'Ch5', 'Ch6', 'file']\n"
     ]
    }
   ],
   "source": [
    "print(list(f.keys()))\n",
    "file = f['file']\n",
    "start = file['start']\n",
    "name = file['name']"
   ]
  },
  {
   "cell_type": "code",
   "execution_count": 65,
   "id": "554a0f59",
   "metadata": {},
   "outputs": [
    {
     "data": {
      "text/plain": [
       "'Data6.smrx'"
      ]
     },
     "execution_count": 65,
     "metadata": {},
     "output_type": "execute_result"
    }
   ],
   "source": [
    "''.join(name[:].astype('uint32').view('U1').flatten())"
   ]
  },
  {
   "cell_type": "code",
   "execution_count": 53,
   "id": "e67d21f7",
   "metadata": {},
   "outputs": [],
   "source": [
    "ch1 = f['Ch1']"
   ]
  },
  {
   "cell_type": "code",
   "execution_count": 54,
   "id": "f3af1f01",
   "metadata": {},
   "outputs": [
    {
     "data": {
      "text/plain": [
       "<KeysViewHDF5 ['comment', 'interval', 'length', 'offset', 'scale', 'start', 'times', 'title', 'units', 'values']>"
      ]
     },
     "execution_count": 54,
     "metadata": {},
     "output_type": "execute_result"
    }
   ],
   "source": [
    "ch1.keys()"
   ]
  },
  {
   "cell_type": "code",
   "execution_count": 55,
   "id": "f32cc7d1",
   "metadata": {},
   "outputs": [],
   "source": [
    "interval = ch1['interval']\n",
    "title = ch1['title']\n",
    "ti = title[:]\n",
    "it = ti.astype('uint32').view('U1')\n",
    "final = ''.join(it.flatten())"
   ]
  },
  {
   "cell_type": "code",
   "execution_count": 89,
   "id": "32b3b829",
   "metadata": {},
   "outputs": [],
   "source": [
    "t = ch1.keys()"
   ]
  },
  {
   "cell_type": "code",
   "execution_count": null,
   "id": "26b0c73b",
   "metadata": {},
   "outputs": [
    {
     "ename": "TypeError",
     "evalue": "Accessing a group is done with bytes or str, not <class 'slice'>",
     "output_type": "error",
     "traceback": [
      "\u001b[31m---------------------------------------------------------------------------\u001b[39m",
      "\u001b[31mTypeError\u001b[39m                                 Traceback (most recent call last)",
      "\u001b[36mCell\u001b[39m\u001b[36m \u001b[39m\u001b[32mIn[105]\u001b[39m\u001b[32m, line 1\u001b[39m\n\u001b[32m----> \u001b[39m\u001b[32m1\u001b[39m \u001b[43mch1\u001b[49m\u001b[43m[\u001b[49m\u001b[43m:\u001b[49m\u001b[43m]\u001b[49m\n",
      "\u001b[36mFile \u001b[39m\u001b[32mh5py/_objects.pyx:56\u001b[39m, in \u001b[36mh5py._objects.with_phil.wrapper\u001b[39m\u001b[34m()\u001b[39m\n",
      "\u001b[36mFile \u001b[39m\u001b[32mh5py/_objects.pyx:57\u001b[39m, in \u001b[36mh5py._objects.with_phil.wrapper\u001b[39m\u001b[34m()\u001b[39m\n",
      "\u001b[36mFile \u001b[39m\u001b[32mc:\\Users\\FloHofmann\\Documents\\GitHub\\workbench\\.venv\\Lib\\site-packages\\h5py\\_hl\\group.py:362\u001b[39m, in \u001b[36mGroup.__getitem__\u001b[39m\u001b[34m(self, name)\u001b[39m\n\u001b[32m    360\u001b[39m     oid = h5o.open(\u001b[38;5;28mself\u001b[39m.id, \u001b[38;5;28mself\u001b[39m._e(name), lapl=\u001b[38;5;28mself\u001b[39m._lapl)\n\u001b[32m    361\u001b[39m \u001b[38;5;28;01melse\u001b[39;00m:\n\u001b[32m--> \u001b[39m\u001b[32m362\u001b[39m     \u001b[38;5;28;01mraise\u001b[39;00m \u001b[38;5;167;01mTypeError\u001b[39;00m(\u001b[33m\"\u001b[39m\u001b[33mAccessing a group is done with bytes or str, \u001b[39m\u001b[33m\"\u001b[39m\n\u001b[32m    363\u001b[39m                     \u001b[33m\"\u001b[39m\u001b[33mnot \u001b[39m\u001b[38;5;132;01m{}\u001b[39;00m\u001b[33m\"\u001b[39m.format(\u001b[38;5;28mtype\u001b[39m(name)))\n\u001b[32m    365\u001b[39m otype = h5i.get_type(oid)\n\u001b[32m    366\u001b[39m \u001b[38;5;28;01mif\u001b[39;00m otype == h5i.GROUP:\n",
      "\u001b[31mTypeError\u001b[39m: Accessing a group is done with bytes or str, not <class 'slice'>"
     ]
    }
   ],
   "source": [
    "ch1"
   ]
  }
 ],
 "metadata": {
  "kernelspec": {
   "display_name": ".venv",
   "language": "python",
   "name": "python3"
  },
  "language_info": {
   "codemirror_mode": {
    "name": "ipython",
    "version": 3
   },
   "file_extension": ".py",
   "mimetype": "text/x-python",
   "name": "python",
   "nbconvert_exporter": "python",
   "pygments_lexer": "ipython3",
   "version": "3.12.6"
  }
 },
 "nbformat": 4,
 "nbformat_minor": 5
}
